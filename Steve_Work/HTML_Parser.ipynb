{
 "cells": [
  {
   "cell_type": "code",
   "execution_count": 31,
   "metadata": {},
   "outputs": [],
   "source": [
    "import pandas as pd\n",
    "from bs4 import BeautifulSoup\n",
    "from html.parser import HTMLParser\n",
    "import html5lib\n",
    "import re\n",
    "from urllib.parse import urljoin\n",
    "from lxml import html, etree\n",
    "import pandas as pd\n",
    "from pathlib import Path\n",
    "\n"
   ]
  },
  {
   "cell_type": "code",
   "execution_count": 32,
   "metadata": {},
   "outputs": [],
   "source": [
    "def load_doc(path: str):\n",
    "    # use recover=True to tolerate messy markup\n",
    "    parser = html.HTMLParser(encoding=\"utf-8\", recover=True)\n",
    "    with open(path, \"rb\") as f:\n",
    "        return html.parse(f, parser)"
   ]
  },
  {
   "cell_type": "code",
   "execution_count": 33,
   "metadata": {},
   "outputs": [],
   "source": [
    "path1 = \"AdopAPet Traffic/page1_10182025.html\"\n",
    "path2 = \"AdopAPet Traffic/page2_10182025.html\"\n",
    "path3 = \"AdopAPet Traffic/page3_10182025.html\"\n",
    "path4 = \"AdopAPet Traffic/page4_10182025.html\""
   ]
  },
  {
   "cell_type": "code",
   "execution_count": 153,
   "metadata": {},
   "outputs": [],
   "source": [
    "with open(path2, 'r', encoding='utf-8') as file:\n",
    "        html_content = file.read()"
   ]
  },
  {
   "cell_type": "code",
   "execution_count": 154,
   "metadata": {},
   "outputs": [],
   "source": [
    "soup = BeautifulSoup(html_content, 'html.parser')"
   ]
  },
  {
   "cell_type": "code",
   "execution_count": 155,
   "metadata": {},
   "outputs": [],
   "source": [
    "data_element = soup.find(class_=\"tablesorter\")"
   ]
  },
  {
   "cell_type": "code",
   "execution_count": 156,
   "metadata": {},
   "outputs": [],
   "source": [
    "even_rows = data_element.find_all(class_=\"even\")\n",
    "odd_rows = data_element.find_all(class_=\"odd\")"
   ]
  },
  {
   "cell_type": "code",
   "execution_count": 217,
   "metadata": {},
   "outputs": [
    {
     "data": {
      "text/plain": [
       "12"
      ]
     },
     "execution_count": 217,
     "metadata": {},
     "output_type": "execute_result"
    }
   ],
   "source": [
    "len(even_rows)"
   ]
  },
  {
   "cell_type": "code",
   "execution_count": 218,
   "metadata": {},
   "outputs": [
    {
     "data": {
      "text/plain": [
       "13"
      ]
     },
     "execution_count": 218,
     "metadata": {},
     "output_type": "execute_result"
    }
   ],
   "source": [
    "len(odd_rows)"
   ]
  },
  {
   "cell_type": "code",
   "execution_count": 229,
   "metadata": {},
   "outputs": [
    {
     "name": "stdout",
     "output_type": "stream",
     "text": [
      "['', '', '', '32.', '', '', '', 'Jackie [Barn Cat]52239691', '', 'CatDomestic Shorthair / Domestic ShorthairApr 6, 2023', '', '275', '', '522', '', '7,438', '', '5', '', '35', '', '565', '', '1.8%', '', '', '']\n"
     ]
    },
    {
     "data": {
      "text/plain": [
       "['Jackie [Barn Cat]52239691']"
      ]
     },
     "execution_count": 229,
     "metadata": {},
     "output_type": "execute_result"
    }
   ],
   "source": [
    "row_data = [cell.get_text(strip=True) for cell in odd_rows[3]]\n",
    "print(row_data)\n",
    "test = row_data[7].split(\"A00\")\n",
    "test"
   ]
  },
  {
   "cell_type": "code",
   "execution_count": 211,
   "metadata": {},
   "outputs": [
    {
     "data": {
      "text/plain": [
       "<tr class=\"even\">\n",
       "<td align=\"left\" class=\"body\" valign=\"middle\" width=\"6\"><img height=\"8\" src=\"https://images.adoptapet.com/images/spacer-w.gif\" width=\"6\"/></td>\n",
       "<td align=\"center\" class=\"body\" valign=\"middle\" width=\"26\">50.                            </td>\n",
       "<td align=\"left\" class=\"body\" valign=\"middle\"><a class=\"radius-10\" href=\"https://www.adoptapet.com/shelter/pet-admin/pet_edit_form?pet_id=45969286&amp;redirect_cgi=pet-reports%2Fview_pet_stats\"><img alt=\"Adopt A Pet :: Luca [Foster Home]\" border=\"0\" height=\"50\" src=\"https://pet-uploads.adoptapet.com/e/8/8/1257099048.jpg\" width=\"50\"/></a></td>\n",
       "<td align=\"left\" class=\"body\" valign=\"middle\"><a class=\"links-body\" href=\"https://www.adoptapet.com/shelter/pet-admin/pet_edit_form?pet_id=45969286&amp;redirect_cgi=pet-reports%2Fview_pet_stats\">\n",
       "                          Luca [Foster Home]\n",
       "                          </a>\n",
       "<br/>\n",
       "<a class=\"links-body\" href=\"https://www.adoptapet.com/shelter/pet-admin/pet_edit_form?pet_id=45969286&amp;redirect_cgi=pet-reports%2Fview_pet_stats\">\n",
       "                          A0058872904\n",
       "                          </a></td>\n",
       "<td align=\"left\" class=\"body\" valign=\"middle\">Dog\n",
       "                            <br/>\n",
       "                           Australian Cattle Dog / Blue Heeler\n",
       "                           <br/>\n",
       "Sep 27, 2025</td>\n",
       "<td align=\"center\" class=\"side_borders body\" valign=\"middle\">                                                                                    268                            </td>\n",
       "<td align=\"center\" class=\"side_borders body\" valign=\"middle\">436</td>\n",
       "<td align=\"center\" class=\"right_blue body\" valign=\"middle\">436</td>\n",
       "<td align=\"center\" class=\"left_green body\" valign=\"middle\">22</td>\n",
       "<td align=\"center\" class=\"side_borders_green body\" valign=\"middle\">99</td>\n",
       "<td align=\"center\" class=\"side_borders_green body\" valign=\"middle\">99</td>\n",
       "<td align=\"center\" class=\"body side_borders_green\" valign=\"middle\">8.2%</td>\n",
       "<td align=\"center\" class=\"green-bg\" valign=\"middle\" width=\"2\"></td>\n",
       "</tr>"
      ]
     },
     "execution_count": 211,
     "metadata": {},
     "output_type": "execute_result"
    }
   ],
   "source": [
    "even_rows[-1]"
   ]
  },
  {
   "cell_type": "code",
   "execution_count": 212,
   "metadata": {},
   "outputs": [
    {
     "data": {
      "text/plain": [
       "12"
      ]
     },
     "execution_count": 212,
     "metadata": {},
     "output_type": "execute_result"
    }
   ],
   "source": [
    "len(even_rows)"
   ]
  },
  {
   "cell_type": "code",
   "execution_count": 213,
   "metadata": {},
   "outputs": [
    {
     "data": {
      "text/plain": [
       "2"
      ]
     },
     "execution_count": 213,
     "metadata": {},
     "output_type": "execute_result"
    }
   ],
   "source": [
    "len(row_data[7].split(\"A00\"))"
   ]
  },
  {
   "cell_type": "code",
   "execution_count": 184,
   "metadata": {},
   "outputs": [
    {
     "data": {
      "text/plain": [
       "'58345457'"
      ]
     },
     "execution_count": 184,
     "metadata": {},
     "output_type": "execute_result"
    }
   ],
   "source": []
  },
  {
   "cell_type": "code",
   "execution_count": 127,
   "metadata": {},
   "outputs": [
    {
     "data": {
      "text/plain": [
       "['', '', '', '2.', '', '', '', 'AuggieA0059040305', '', 'DogAmerican Staffordshire Terrier / WeimaranerAug 21, 2025', '', '333', '', '870', '', '1,405', '', '17', '', '48', '', '117', '', '5.1%', '', '', '']"
      ]
     },
     "execution_count": 127,
     "metadata": {},
     "output_type": "execute_result"
    }
   ],
   "source": [
    "row_data"
   ]
  },
  {
   "cell_type": "code",
   "execution_count": 124,
   "metadata": {},
   "outputs": [],
   "source": [
    "dog_traffic_df = pd.DataFrame(columns=['Name','ID','Seen_SearchResults_7Days','Seen_SearchResults_30Days','Seen_SearchResults_2008','Details_Opened_7Days','Details_Opened_7Days','Details_Opened_30Days','Details_Opened_2008','Click_through_7Days'])"
   ]
  },
  {
   "cell_type": "code",
   "execution_count": 137,
   "metadata": {},
   "outputs": [],
   "source": [
    "dog_traffic_dict = {'Name': \"\",\n",
    "                    'ID': \"\",\n",
    "                    'Seen_SearchResults_7Days':\"\",\n",
    "                    'Seen_SearchResults_30Days':\"\",\n",
    "                    'Seen_SearchResults_2008':\"\",\n",
    "                    'Details_Opened_7Days':\"\",\n",
    "                    'Details_Opened_30Days':\"\",\n",
    "                    'Details_Opened_2008':\"\",\n",
    "                    'Click_through_7Days':\"\"}"
   ]
  },
  {
   "cell_type": "code",
   "execution_count": 161,
   "metadata": {},
   "outputs": [],
   "source": [
    "test = row_data[7].split(\"A00\")\n",
    "dog_traffic_dict['Name'] = test[0]\n",
    "dog_traffic_dict['ID'] = f\"A00{test[1]}\"\n",
    "dog_traffic_dict['Seen_SearchResults_7Days'] = row_data[11]\n",
    "dog_traffic_dict['Seen_SearchResults_30Days'] = row_data[13]\n",
    "dog_traffic_dict['Seen_SearchResults_2008'] = row_data[15]\n",
    "dog_traffic_dict['Details_Opened_7Days'] = row_data[17]\n",
    "dog_traffic_dict['Details_Opened_30Days'] = row_data[19]\n",
    "dog_traffic_dict['Details_Opened_2008'] = row_data[21]\n",
    "dog_traffic_dict['Click_through_7Days'] = row_data[23]\n"
   ]
  },
  {
   "cell_type": "code",
   "execution_count": 162,
   "metadata": {},
   "outputs": [
    {
     "data": {
      "text/plain": [
       "2"
      ]
     },
     "execution_count": 162,
     "metadata": {},
     "output_type": "execute_result"
    }
   ],
   "source": [
    "len(dog_traffic_df)"
   ]
  },
  {
   "cell_type": "code",
   "execution_count": 163,
   "metadata": {},
   "outputs": [],
   "source": [
    "dog_traffic_df.loc[len(dog_traffic_df)] = dog_traffic_dict"
   ]
  },
  {
   "cell_type": "code",
   "execution_count": 164,
   "metadata": {},
   "outputs": [
    {
     "data": {
      "text/html": [
       "<div>\n",
       "<style scoped>\n",
       "    .dataframe tbody tr th:only-of-type {\n",
       "        vertical-align: middle;\n",
       "    }\n",
       "\n",
       "    .dataframe tbody tr th {\n",
       "        vertical-align: top;\n",
       "    }\n",
       "\n",
       "    .dataframe thead th {\n",
       "        text-align: right;\n",
       "    }\n",
       "</style>\n",
       "<table border=\"1\" class=\"dataframe\">\n",
       "  <thead>\n",
       "    <tr style=\"text-align: right;\">\n",
       "      <th></th>\n",
       "      <th>Name</th>\n",
       "      <th>ID</th>\n",
       "      <th>Seen_SearchResults_7Days</th>\n",
       "      <th>Seen_SearchResults_30Days</th>\n",
       "      <th>Seen_SearchResults_2008</th>\n",
       "      <th>Details_Opened_7Days</th>\n",
       "      <th>Details_Opened_7Days</th>\n",
       "      <th>Details_Opened_30Days</th>\n",
       "      <th>Details_Opened_2008</th>\n",
       "      <th>Click_through_7Days</th>\n",
       "    </tr>\n",
       "  </thead>\n",
       "  <tbody>\n",
       "    <tr>\n",
       "      <th>0</th>\n",
       "      <td>Auggie</td>\n",
       "      <td>A0059040305</td>\n",
       "      <td>333</td>\n",
       "      <td>870</td>\n",
       "      <td>1,405</td>\n",
       "      <td>17</td>\n",
       "      <td>17</td>\n",
       "      <td>48</td>\n",
       "      <td>117</td>\n",
       "      <td>5.1%</td>\n",
       "    </tr>\n",
       "    <tr>\n",
       "      <th>1</th>\n",
       "      <td>Auggie</td>\n",
       "      <td>A0059040305</td>\n",
       "      <td>333</td>\n",
       "      <td>870</td>\n",
       "      <td>1,405</td>\n",
       "      <td>17</td>\n",
       "      <td>17</td>\n",
       "      <td>48</td>\n",
       "      <td>117</td>\n",
       "      <td>5.1%</td>\n",
       "    </tr>\n",
       "    <tr>\n",
       "      <th>2</th>\n",
       "      <td>Goose</td>\n",
       "      <td>A0057718939</td>\n",
       "      <td>312</td>\n",
       "      <td>690</td>\n",
       "      <td>1,611</td>\n",
       "      <td>11</td>\n",
       "      <td>11</td>\n",
       "      <td>60</td>\n",
       "      <td>269</td>\n",
       "      <td>3.5%</td>\n",
       "    </tr>\n",
       "  </tbody>\n",
       "</table>\n",
       "</div>"
      ],
      "text/plain": [
       "     Name           ID Seen_SearchResults_7Days Seen_SearchResults_30Days  \\\n",
       "0  Auggie  A0059040305                      333                       870   \n",
       "1  Auggie  A0059040305                      333                       870   \n",
       "2   Goose  A0057718939                      312                       690   \n",
       "\n",
       "  Seen_SearchResults_2008 Details_Opened_7Days Details_Opened_7Days  \\\n",
       "0                   1,405                   17                   17   \n",
       "1                   1,405                   17                   17   \n",
       "2                   1,611                   11                   11   \n",
       "\n",
       "  Details_Opened_30Days Details_Opened_2008 Click_through_7Days  \n",
       "0                    48                 117                5.1%  \n",
       "1                    48                 117                5.1%  \n",
       "2                    60                 269                3.5%  "
      ]
     },
     "execution_count": 164,
     "metadata": {},
     "output_type": "execute_result"
    }
   ],
   "source": [
    "dog_traffic_df"
   ]
  },
  {
   "cell_type": "code",
   "execution_count": 236,
   "metadata": {},
   "outputs": [],
   "source": [
    "def collect_traffic(path):\n",
    "    \n",
    "    #read in HTML\n",
    "    with open(path, 'r', encoding='utf-8') as file:\n",
    "        html_content = file.read()\n",
    "    soup = BeautifulSoup(html_content, 'html.parser')\n",
    "    \n",
    "    #Find the table with traffic data\n",
    "    data_element = soup.find(class_=\"tablesorter\")\n",
    "    \n",
    "    #Pull out all rows \n",
    "    even_rows = data_element.find_all(class_=\"even\")\n",
    "    odd_rows = data_element.find_all(class_=\"odd\")\n",
    "    \n",
    "    #Set of data holders\n",
    "    dog_traffic_df = pd.DataFrame(columns=['Name','ID','Seen_SearchResults_7Days','Seen_SearchResults_30Days','Seen_SearchResults_2008','Details_Opened_7Days','Details_Opened_30Days','Details_Opened_2008','Click_through_7Days'])\n",
    "    dog_traffic_dict = {'Name': \"\",\n",
    "                    'ID': \"\",\n",
    "                    'Seen_SearchResults_7Days':\"\",\n",
    "                    'Seen_SearchResults_30Days':\"\",\n",
    "                    'Seen_SearchResults_2008':\"\",\n",
    "                    'Details_Opened_7Days':\"\",\n",
    "                    'Details_Opened_30Days':\"\",\n",
    "                    'Details_Opened_2008':\"\",\n",
    "                    'Click_through_7Days':\"\"}\n",
    "    \n",
    "    #go through each row to gather data points\n",
    "    for row in even_rows:\n",
    "        row_data = [cell.get_text(strip=True) for cell in row]\n",
    "        try:\n",
    "            nameID = row_data[7].split(\"A00\")\n",
    "            dog_traffic_dict['Name'] = nameID[0]\n",
    "            dog_traffic_dict['ID'] = f\"A00{nameID[1]}\"\n",
    "        except:\n",
    "            try:\n",
    "                nameID = row_data[7].split(\"[Barn Cat]\")\n",
    "                dog_traffic_dict['Name'] = nameID[0]\n",
    "                dog_traffic_dict['ID'] = f\"A00{nameID[1]}\"\n",
    "            except:\n",
    "                nameID = row_data[7].split(\"[Foster Home]\")\n",
    "                dog_traffic_dict['Name'] = nameID[0]\n",
    "                dog_traffic_dict['ID'] = f\"A00{nameID[1]}\"\n",
    "        dog_traffic_dict['Seen_SearchResults_7Days'] = row_data[11]\n",
    "        dog_traffic_dict['Seen_SearchResults_30Days'] = row_data[13]\n",
    "        dog_traffic_dict['Seen_SearchResults_2008'] = row_data[15]\n",
    "        dog_traffic_dict['Details_Opened_7Days'] = row_data[17]\n",
    "        dog_traffic_dict['Details_Opened_30Days'] = row_data[19]\n",
    "        dog_traffic_dict['Details_Opened_2008'] = row_data[21]\n",
    "        dog_traffic_dict['Click_through_7Days'] = row_data[23]\n",
    "        dog_traffic_df.loc[len(dog_traffic_df)] = dog_traffic_dict\n",
    "        \n",
    "    for row in odd_rows:\n",
    "        row_data = [cell.get_text(strip=True) for cell in row]\n",
    "        try:\n",
    "            nameID = row_data[7].split(\"A00\")\n",
    "            dog_traffic_dict['Name'] = nameID[0]\n",
    "            dog_traffic_dict['ID'] = f\"A00{nameID[1]}\"\n",
    "        except:\n",
    "            try:\n",
    "                nameID = row_data[7].split(\"[Barn Cat]\")\n",
    "                dog_traffic_dict['Name'] = nameID[0]\n",
    "                dog_traffic_dict['ID'] = f\"A00{nameID[1]}\"\n",
    "            except:\n",
    "                nameID = row_data[7].split(\"[Foster Home]\")\n",
    "                dog_traffic_dict['Name'] = nameID[0]\n",
    "                dog_traffic_dict['ID'] = f\"A00{nameID[1]}\"\n",
    "        dog_traffic_dict['Seen_SearchResults_7Days'] = row_data[11]\n",
    "        dog_traffic_dict['Seen_SearchResults_30Days'] = row_data[13]\n",
    "        dog_traffic_dict['Seen_SearchResults_2008'] = row_data[15]\n",
    "        dog_traffic_dict['Details_Opened_7Days'] = row_data[17]\n",
    "        dog_traffic_dict['Details_Opened_30Days'] = row_data[19]\n",
    "        dog_traffic_dict['Details_Opened_2008'] = row_data[21]\n",
    "        dog_traffic_dict['Click_through_7Days'] = row_data[23]\n",
    "        dog_traffic_df.loc[len(dog_traffic_df)] = dog_traffic_dict\n",
    "            \n",
    "    #return the dataframe\n",
    "    return dog_traffic_df\n",
    "\n",
    "    "
   ]
  },
  {
   "cell_type": "code",
   "execution_count": 237,
   "metadata": {},
   "outputs": [],
   "source": [
    "page1_df = collect_traffic(path=path1)\n",
    "page2_df = collect_traffic(path=path2)\n",
    "page3_df = collect_traffic(path=path3)\n",
    "page4_df = collect_traffic(path=path4)"
   ]
  },
  {
   "cell_type": "code",
   "execution_count": 242,
   "metadata": {},
   "outputs": [],
   "source": [
    "dog_traffic = pd.concat([page1_df,page2_df,page3_df,page4_df])"
   ]
  },
  {
   "cell_type": "code",
   "execution_count": 243,
   "metadata": {},
   "outputs": [],
   "source": [
    "dog_traffic.to_excel('dog_traffic_10182025.xlsx', index=False)"
   ]
  },
  {
   "cell_type": "code",
   "execution_count": null,
   "metadata": {},
   "outputs": [],
   "source": []
  }
 ],
 "metadata": {
  "kernelspec": {
   "display_name": ".venv",
   "language": "python",
   "name": "python3"
  },
  "language_info": {
   "codemirror_mode": {
    "name": "ipython",
    "version": 3
   },
   "file_extension": ".py",
   "mimetype": "text/x-python",
   "name": "python",
   "nbconvert_exporter": "python",
   "pygments_lexer": "ipython3",
   "version": "3.9.6"
  }
 },
 "nbformat": 4,
 "nbformat_minor": 2
}
